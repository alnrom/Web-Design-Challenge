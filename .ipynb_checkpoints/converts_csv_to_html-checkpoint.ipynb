{
 "cells": [
  {
   "cell_type": "code",
   "execution_count": 1,
   "metadata": {},
   "outputs": [],
   "source": [
    "import pandas as pd"
   ]
  },
  {
   "cell_type": "code",
   "execution_count": 11,
   "metadata": {},
   "outputs": [],
   "source": [
    "df = pd.read_csv('Resources/temperatures.csv')"
   ]
  },
  {
   "cell_type": "code",
   "execution_count": 12,
   "metadata": {},
   "outputs": [
    {
     "data": {
      "text/html": [
       "<div>\n",
       "<style scoped>\n",
       "    .dataframe tbody tr th:only-of-type {\n",
       "        vertical-align: middle;\n",
       "    }\n",
       "\n",
       "    .dataframe tbody tr th {\n",
       "        vertical-align: top;\n",
       "    }\n",
       "\n",
       "    .dataframe thead th {\n",
       "        text-align: right;\n",
       "    }\n",
       "</style>\n",
       "<table border=\"1\" class=\"dataframe\">\n",
       "  <thead>\n",
       "    <tr style=\"text-align: right;\">\n",
       "      <th></th>\n",
       "      <th>Unnamed: 0</th>\n",
       "      <th>City</th>\n",
       "      <th>Longitud</th>\n",
       "      <th>Latitude</th>\n",
       "      <th>Temperature</th>\n",
       "      <th>Humidity</th>\n",
       "      <th>Cloudiness</th>\n",
       "      <th>Wind_speed</th>\n",
       "    </tr>\n",
       "  </thead>\n",
       "  <tbody>\n",
       "    <tr>\n",
       "      <th>0</th>\n",
       "      <td>0</td>\n",
       "      <td>Yellowknife</td>\n",
       "      <td>-114.3525</td>\n",
       "      <td>62.4560</td>\n",
       "      <td>-4.00</td>\n",
       "      <td>84</td>\n",
       "      <td>75</td>\n",
       "      <td>6.91</td>\n",
       "    </tr>\n",
       "    <tr>\n",
       "      <th>1</th>\n",
       "      <td>1</td>\n",
       "      <td>Coro</td>\n",
       "      <td>-69.6734</td>\n",
       "      <td>11.4045</td>\n",
       "      <td>72.14</td>\n",
       "      <td>87</td>\n",
       "      <td>8</td>\n",
       "      <td>12.44</td>\n",
       "    </tr>\n",
       "    <tr>\n",
       "      <th>2</th>\n",
       "      <td>2</td>\n",
       "      <td>Saint Paul Harbor</td>\n",
       "      <td>-152.4072</td>\n",
       "      <td>57.7900</td>\n",
       "      <td>32.00</td>\n",
       "      <td>43</td>\n",
       "      <td>1</td>\n",
       "      <td>24.16</td>\n",
       "    </tr>\n",
       "    <tr>\n",
       "      <th>3</th>\n",
       "      <td>3</td>\n",
       "      <td>Zyryanka</td>\n",
       "      <td>150.8500</td>\n",
       "      <td>65.7500</td>\n",
       "      <td>-26.97</td>\n",
       "      <td>94</td>\n",
       "      <td>100</td>\n",
       "      <td>4.09</td>\n",
       "    </tr>\n",
       "    <tr>\n",
       "      <th>4</th>\n",
       "      <td>4</td>\n",
       "      <td>Rikitea</td>\n",
       "      <td>-134.9692</td>\n",
       "      <td>-23.1203</td>\n",
       "      <td>78.49</td>\n",
       "      <td>72</td>\n",
       "      <td>85</td>\n",
       "      <td>14.79</td>\n",
       "    </tr>\n",
       "  </tbody>\n",
       "</table>\n",
       "</div>"
      ],
      "text/plain": [
       "   Unnamed: 0               City  Longitud  Latitude  Temperature  Humidity  \\\n",
       "0           0        Yellowknife -114.3525   62.4560        -4.00        84   \n",
       "1           1               Coro  -69.6734   11.4045        72.14        87   \n",
       "2           2  Saint Paul Harbor -152.4072   57.7900        32.00        43   \n",
       "3           3           Zyryanka  150.8500   65.7500       -26.97        94   \n",
       "4           4            Rikitea -134.9692  -23.1203        78.49        72   \n",
       "\n",
       "   Cloudiness  Wind_speed  \n",
       "0          75        6.91  \n",
       "1           8       12.44  \n",
       "2           1       24.16  \n",
       "3         100        4.09  \n",
       "4          85       14.79  "
      ]
     },
     "execution_count": 12,
     "metadata": {},
     "output_type": "execute_result"
    }
   ],
   "source": [
    "df.head()"
   ]
  },
  {
   "cell_type": "code",
   "execution_count": 13,
   "metadata": {},
   "outputs": [],
   "source": [
    "df = df.iloc[:,1:]"
   ]
  },
  {
   "cell_type": "code",
   "execution_count": 16,
   "metadata": {},
   "outputs": [],
   "source": [
    "df.to_html('table.html')"
   ]
  },
  {
   "cell_type": "code",
   "execution_count": null,
   "metadata": {},
   "outputs": [],
   "source": []
  }
 ],
 "metadata": {
  "kernelspec": {
   "display_name": "Python 3",
   "language": "python",
   "name": "python3"
  },
  "language_info": {
   "codemirror_mode": {
    "name": "ipython",
    "version": 3
   },
   "file_extension": ".py",
   "mimetype": "text/x-python",
   "name": "python",
   "nbconvert_exporter": "python",
   "pygments_lexer": "ipython3",
   "version": "3.8.5"
  }
 },
 "nbformat": 4,
 "nbformat_minor": 4
}
